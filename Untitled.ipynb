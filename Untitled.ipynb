{
 "cells": [
  {
   "cell_type": "code",
   "execution_count": 2,
   "metadata": {},
   "outputs": [
    {
     "name": "stdout",
     "output_type": "stream",
     "text": [
      "Data Input and Output.ipynb\r\n",
      "DataFrames.ipynb\r\n",
      "Excel_Sample.xlsx\r\n",
      "Groupby.ipynb\r\n",
      "Introduction to Pandas.ipynb\r\n",
      "Merging, Joining, and Concatenating .ipynb\r\n",
      "Missing Data.ipynb\r\n",
      "Operations.ipynb\r\n",
      "\u001b[34mPandas Exercises\u001b[m\u001b[m/\r\n",
      "Series.ipynb\r\n",
      "Untitled.ipynb\r\n",
      "example\r\n",
      "example.csv\r\n",
      "multi_index_example\r\n"
     ]
    }
   ],
   "source": [
    "ls"
   ]
  },
  {
   "cell_type": "code",
   "execution_count": null,
   "metadata": {
    "collapsed": true
   },
   "outputs": [],
   "source": []
  }
 ],
 "metadata": {
  "kernelspec": {
   "display_name": "Python 3",
   "language": "python",
   "name": "python3"
  },
  "language_info": {
   "codemirror_mode": {
    "name": "ipython",
    "version": 3
   },
   "file_extension": ".py",
   "mimetype": "text/x-python",
   "name": "python",
   "nbconvert_exporter": "python",
   "pygments_lexer": "ipython3",
   "version": "3.6.1"
  }
 },
 "nbformat": 4,
 "nbformat_minor": 2
}
